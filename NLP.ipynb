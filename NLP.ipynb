{
  "nbformat": 4,
  "nbformat_minor": 0,
  "metadata": {
    "colab": {
      "name": "João Rafael - T4 - Projeto.ipynb",
      "provenance": [],
      "collapsed_sections": [],
      "machine_shape": "hm",
      "include_colab_link": true
    },
    "kernelspec": {
      "display_name": "Python 3",
      "language": "python",
      "name": "python3"
    },
    "language_info": {
      "codemirror_mode": {
        "name": "ipython",
        "version": 3
      },
      "file_extension": ".py",
      "mimetype": "text/x-python",
      "name": "python",
      "nbconvert_exporter": "python",
      "pygments_lexer": "ipython3",
      "version": "3.6.8"
    }
  },
  "cells": [
    {
      "cell_type": "markdown",
      "metadata": {
        "id": "view-in-github",
        "colab_type": "text"
      },
      "source": [
        "<a href=\"https://colab.research.google.com/github/JRafaQuadros91/NLP/blob/main/NLP.ipynb\" target=\"_parent\"><img src=\"https://colab.research.google.com/assets/colab-badge.svg\" alt=\"Open In Colab\"/></a>"
      ]
    },
    {
      "cell_type": "markdown",
      "source": [
        ""
      ],
      "metadata": {
        "id": "ATDOYok6reGD"
      }
    },
    {
      "cell_type": "markdown",
      "metadata": {
        "id": "1Ytf6fQuDoBL"
      },
      "source": [
        ""
      ]
    },
    {
      "cell_type": "markdown",
      "metadata": {
        "id": "3WhlmD4-DoBM"
      },
      "source": [
        "# Introdução"
      ]
    },
    {
      "cell_type": "markdown",
      "metadata": {
        "id": "MbENmqDcDoBN"
      },
      "source": [
        "Tendo em vista as inumeras possibilidades de análise e predição utilizando inteligência artificial e algoritmos de aprendizado de máquina, esta análise tem por objetivo analisar a base de dados *Yelp*, disponibilizada pela plataforma *Kaggle* e pela empresa *Yelp*, uma plataforma que disponibiliza e organiza avaliações de estabelecimentos comerciais. A Base de dados consiste em informações sobre os usuários, avaliações e comércio. As avaliações em forma de texto são propícias para realizar verificações com algoritmos de processamento de linguagem natural(NLP), como a *MultinomialNB*, que aplica o modelo *Naive Bayes* para classificação de contagem de *tokens* inseridas em *bag of words*."
      ]
    },
    {
      "cell_type": "markdown",
      "metadata": {
        "id": "WOH_emAbDoBN"
      },
      "source": [
        ""
      ]
    },
    {
      "cell_type": "markdown",
      "metadata": {
        "id": "sKEBLKI9DoBO"
      },
      "source": [
        "# Objetivos"
      ]
    },
    {
      "cell_type": "markdown",
      "metadata": {
        "id": "DnwsJNUCDoBP"
      },
      "source": [
        "O objetivo desse modelo é a utilização de algoritmo baseado no modelo de machine learning *Naive Bayes* da plataforma *Sci-Kit Learn* para analisar e predizer o quanto a quantidade de caracteres de uma avaliação de usuário sobre um estabelecimento pode influênciar em ser considerada boa ou ruim por outros usuários."
      ]
    },
    {
      "cell_type": "markdown",
      "metadata": {
        "id": "no7RqIRIDoBQ"
      },
      "source": [
        ""
      ]
    },
    {
      "cell_type": "markdown",
      "metadata": {
        "id": "dOxLGdyDDoBQ"
      },
      "source": [
        "# Materiais e métodos"
      ]
    },
    {
      "cell_type": "markdown",
      "metadata": {
        "id": "iI-bblxbDoBR"
      },
      "source": [
        "Para realizar essa análise foi utilizada a Plataforma Google Colaboratory, que é uma plataforma online que tem como base o Jupyter Notebook e oferece máquinas virtuais em ambiente Linux, sendo esta disponível gratuitamente e voltada para análises que utilizam elementos de inteligência artificial, além de permitir acesso externo e possuir suporte para execução de scripts em várias linguagens de programação, principalmente Python.  Além disso, a utilização das bibliotecas *Pandas*, *Numpy* e *Sci-Kit Learn* foram necessárias para a análise de dados e aplicação dos algoritmos e predição dos resultados. Também foi necessária a utilização de bibliotecas para plot de gráficos, como a *Seaborn*.\n",
        "Foi utilizada dois conjuntos de dados da Base *Yelp* , uma que traz informações sobre usuários, reviews, estabelecimentos e a avaliação sobre essas Reviews. A outra, informações sobre sugestões que os usuários dão aos estabelecimentos. As bases de dados foram tratadas, de maneira que as colunas referentes ao texto fossem transformadas em *Bags of Words* , ou seja, a partir do algoritmo *CountVectorizer* que transforma essa avaliação em vetores de tokens de texto, que são fragmentos de texto que podem ser atribuidos com contagens de valores de acordo com quantas vezes esse token aparece naquela determinada linha. Além disso, para contagem dos caracteres e possibilidade da predição foi utilizado o algoritmo *MultinomialNB*, que faz a contagem e classificação desses tokens, após separada a base de dados em treino e teste (70% treino, 70% teste). Também foi definida como alvos da predição das Reviews as avaliações das reviews com 1 ou 5 estrelas, tendo em vista que as demais apresentavam uma homogeniedade de valores. Na base Tips, foi considerada todos os valores para \"likes\", que são as avaliações sobre as dicas que um usuário realiza a um estabelecimento."
      ]
    },
    {
      "cell_type": "markdown",
      "metadata": {
        "id": "KQYNpZJeDoBS"
      },
      "source": [
        ""
      ]
    },
    {
      "cell_type": "markdown",
      "metadata": {
        "id": "Xq8HwugtDoBS"
      },
      "source": [
        "# Desenvolvimento"
      ]
    },
    {
      "cell_type": "markdown",
      "metadata": {
        "id": "_z5sTempDoBT"
      },
      "source": [
        "*Aqui deverá ser colocado o código referente ao trabalho, sempre descrevendo o código e cada passo realizado. Utize quantas células forem necessárias, com código ou Markdown.*"
      ]
    },
    {
      "cell_type": "code",
      "metadata": {
        "colab": {
          "base_uri": "https://localhost:8080/"
        },
        "id": "p9KaTWk13U7t",
        "outputId": "4f93bd08-59a8-41dc-9058-85075960a68a"
      },
      "source": [
        "import pandas as pd\n",
        "import numpy as np\n",
        "import csv\n",
        "import json\n",
        "import matplotlib.pyplot as plt\n",
        "import glob\n",
        "import seaborn as sns\n",
        "sns.set_style('white')\n",
        "%matplotlib inline\n",
        "from sklearn.model_selection import train_test_split \n",
        "from sklearn.naive_bayes import  MultinomialNB\n",
        "from sklearn import metrics\n",
        "from sklearn.metrics import accuracy_score, recall_score, confusion_matrix , f1_score , precision_score\n",
        "from sklearn.feature_extraction.text import CountVectorizer\n",
        "\n",
        "\n",
        "\n",
        "\n",
        "from google.colab import drive\n",
        "drive.mount('/content/drive')\n",
        "\n"
      ],
      "execution_count": null,
      "outputs": [
        {
          "output_type": "stream",
          "name": "stdout",
          "text": [
            "Drive already mounted at /content/drive; to attempt to forcibly remount, call drive.mount(\"/content/drive\", force_remount=True).\n"
          ]
        }
      ]
    },
    {
      "cell_type": "code",
      "metadata": {
        "id": "_ClrFgIXji7D"
      },
      "source": [
        "#Data Set\n",
        "\n",
        "Reviews = pd.read_csv('/content/drive/Shareddrives/Tcc2021Rafael/data/Yelp/yelp_review.csv')"
      ],
      "execution_count": null,
      "outputs": []
    },
    {
      "cell_type": "code",
      "metadata": {
        "id": "GGXx38unLvPy"
      },
      "source": [
        "Tip = pd.read_csv('/content/drive/Shareddrives/Tcc2021Rafael/data/Yelp/yelp_tip.csv')"
      ],
      "execution_count": null,
      "outputs": []
    },
    {
      "cell_type": "code",
      "metadata": {
        "id": "u2Oydx03DoBY"
      },
      "source": [
        "#Variáveis"
      ],
      "execution_count": null,
      "outputs": []
    },
    {
      "cell_type": "code",
      "metadata": {
        "id": "IL4J-NnqDoBb"
      },
      "source": [
        "#Códigos - Visualização dos dados\n",
        "\n"
      ],
      "execution_count": null,
      "outputs": []
    },
    {
      "cell_type": "code",
      "metadata": {
        "colab": {
          "base_uri": "https://localhost:8080/"
        },
        "id": "VJXXZz7zjsCL",
        "outputId": "977ca386-e14f-4d82-bc65-191045558fcd"
      },
      "source": [
        "Reviews.info()"
      ],
      "execution_count": null,
      "outputs": [
        {
          "output_type": "stream",
          "name": "stdout",
          "text": [
            "<class 'pandas.core.frame.DataFrame'>\n",
            "RangeIndex: 5261668 entries, 0 to 5261667\n",
            "Data columns (total 10 columns):\n",
            " #   Column       Dtype \n",
            "---  ------       ----- \n",
            " 0   review_id    object\n",
            " 1   user_id      object\n",
            " 2   business_id  object\n",
            " 3   stars        int64 \n",
            " 4   date         object\n",
            " 5   text         object\n",
            " 6   useful       int64 \n",
            " 7   funny        int64 \n",
            " 8   cool         int64 \n",
            " 9   text lenght  int64 \n",
            "dtypes: int64(5), object(5)\n",
            "memory usage: 401.4+ MB\n"
          ]
        }
      ]
    },
    {
      "cell_type": "code",
      "metadata": {
        "colab": {
          "base_uri": "https://localhost:8080/"
        },
        "id": "504dX11sMgNL",
        "outputId": "71a25595-2b6a-4570-b628-8c03d9964467"
      },
      "source": [
        "Tip.info()"
      ],
      "execution_count": null,
      "outputs": [
        {
          "output_type": "stream",
          "name": "stdout",
          "text": [
            "<class 'pandas.core.frame.DataFrame'>\n",
            "RangeIndex: 1098324 entries, 0 to 1098323\n",
            "Data columns (total 5 columns):\n",
            " #   Column       Non-Null Count    Dtype \n",
            "---  ------       --------------    ----- \n",
            " 0   text         1098322 non-null  object\n",
            " 1   date         1098324 non-null  object\n",
            " 2   likes        1098324 non-null  int64 \n",
            " 3   business_id  1098324 non-null  object\n",
            " 4   user_id      1098324 non-null  object\n",
            "dtypes: int64(1), object(4)\n",
            "memory usage: 41.9+ MB\n"
          ]
        }
      ]
    },
    {
      "cell_type": "code",
      "metadata": {
        "colab": {
          "base_uri": "https://localhost:8080/",
          "height": 206
        },
        "id": "2JYXL9jkjr4z",
        "outputId": "ce1ca58f-2683-45c7-9945-fbc93c9649e0"
      },
      "source": [
        "Reviews.head()"
      ],
      "execution_count": null,
      "outputs": [
        {
          "output_type": "execute_result",
          "data": {
            "text/html": [
              "<div>\n",
              "<style scoped>\n",
              "    .dataframe tbody tr th:only-of-type {\n",
              "        vertical-align: middle;\n",
              "    }\n",
              "\n",
              "    .dataframe tbody tr th {\n",
              "        vertical-align: top;\n",
              "    }\n",
              "\n",
              "    .dataframe thead th {\n",
              "        text-align: right;\n",
              "    }\n",
              "</style>\n",
              "<table border=\"1\" class=\"dataframe\">\n",
              "  <thead>\n",
              "    <tr style=\"text-align: right;\">\n",
              "      <th></th>\n",
              "      <th>review_id</th>\n",
              "      <th>user_id</th>\n",
              "      <th>business_id</th>\n",
              "      <th>stars</th>\n",
              "      <th>date</th>\n",
              "      <th>text</th>\n",
              "      <th>useful</th>\n",
              "      <th>funny</th>\n",
              "      <th>cool</th>\n",
              "      <th>text lenght</th>\n",
              "    </tr>\n",
              "  </thead>\n",
              "  <tbody>\n",
              "    <tr>\n",
              "      <th>0</th>\n",
              "      <td>vkVSCC7xljjrAI4UGfnKEQ</td>\n",
              "      <td>bv2nCi5Qv5vroFiqKGopiw</td>\n",
              "      <td>AEx2SYEUJmTxVVB18LlCwA</td>\n",
              "      <td>5</td>\n",
              "      <td>2016-05-28</td>\n",
              "      <td>Super simple place but amazing nonetheless. It...</td>\n",
              "      <td>0</td>\n",
              "      <td>0</td>\n",
              "      <td>0</td>\n",
              "      <td>213</td>\n",
              "    </tr>\n",
              "    <tr>\n",
              "      <th>1</th>\n",
              "      <td>n6QzIUObkYshz4dz2QRJTw</td>\n",
              "      <td>bv2nCi5Qv5vroFiqKGopiw</td>\n",
              "      <td>VR6GpWIda3SfvPC-lg9H3w</td>\n",
              "      <td>5</td>\n",
              "      <td>2016-05-28</td>\n",
              "      <td>Small unassuming place that changes their menu...</td>\n",
              "      <td>0</td>\n",
              "      <td>0</td>\n",
              "      <td>0</td>\n",
              "      <td>502</td>\n",
              "    </tr>\n",
              "    <tr>\n",
              "      <th>2</th>\n",
              "      <td>MV3CcKScW05u5LVfF6ok0g</td>\n",
              "      <td>bv2nCi5Qv5vroFiqKGopiw</td>\n",
              "      <td>CKC0-MOWMqoeWf6s-szl8g</td>\n",
              "      <td>5</td>\n",
              "      <td>2016-05-28</td>\n",
              "      <td>Lester's is located in a beautiful neighborhoo...</td>\n",
              "      <td>0</td>\n",
              "      <td>0</td>\n",
              "      <td>0</td>\n",
              "      <td>373</td>\n",
              "    </tr>\n",
              "    <tr>\n",
              "      <th>3</th>\n",
              "      <td>IXvOzsEMYtiJI0CARmj77Q</td>\n",
              "      <td>bv2nCi5Qv5vroFiqKGopiw</td>\n",
              "      <td>ACFtxLv8pGrrxMm6EgjreA</td>\n",
              "      <td>4</td>\n",
              "      <td>2016-05-28</td>\n",
              "      <td>Love coming here. Yes the place always needs t...</td>\n",
              "      <td>0</td>\n",
              "      <td>0</td>\n",
              "      <td>0</td>\n",
              "      <td>523</td>\n",
              "    </tr>\n",
              "    <tr>\n",
              "      <th>4</th>\n",
              "      <td>L_9BTb55X0GDtThi6GlZ6w</td>\n",
              "      <td>bv2nCi5Qv5vroFiqKGopiw</td>\n",
              "      <td>s2I_Ni76bjJNK9yG60iD-Q</td>\n",
              "      <td>4</td>\n",
              "      <td>2016-05-28</td>\n",
              "      <td>Had their chocolate almond croissant and it wa...</td>\n",
              "      <td>0</td>\n",
              "      <td>0</td>\n",
              "      <td>0</td>\n",
              "      <td>231</td>\n",
              "    </tr>\n",
              "  </tbody>\n",
              "</table>\n",
              "</div>"
            ],
            "text/plain": [
              "                review_id                 user_id  ... cool  text lenght\n",
              "0  vkVSCC7xljjrAI4UGfnKEQ  bv2nCi5Qv5vroFiqKGopiw  ...    0          213\n",
              "1  n6QzIUObkYshz4dz2QRJTw  bv2nCi5Qv5vroFiqKGopiw  ...    0          502\n",
              "2  MV3CcKScW05u5LVfF6ok0g  bv2nCi5Qv5vroFiqKGopiw  ...    0          373\n",
              "3  IXvOzsEMYtiJI0CARmj77Q  bv2nCi5Qv5vroFiqKGopiw  ...    0          523\n",
              "4  L_9BTb55X0GDtThi6GlZ6w  bv2nCi5Qv5vroFiqKGopiw  ...    0          231\n",
              "\n",
              "[5 rows x 10 columns]"
            ]
          },
          "metadata": {},
          "execution_count": 42
        }
      ]
    },
    {
      "cell_type": "code",
      "metadata": {
        "colab": {
          "base_uri": "https://localhost:8080/",
          "height": 206
        },
        "id": "1axrhTDEMpGw",
        "outputId": "50314f04-d09c-4b12-dfb7-ed8f3e1305e0"
      },
      "source": [
        "Tip.head()"
      ],
      "execution_count": null,
      "outputs": [
        {
          "output_type": "execute_result",
          "data": {
            "text/html": [
              "<div>\n",
              "<style scoped>\n",
              "    .dataframe tbody tr th:only-of-type {\n",
              "        vertical-align: middle;\n",
              "    }\n",
              "\n",
              "    .dataframe tbody tr th {\n",
              "        vertical-align: top;\n",
              "    }\n",
              "\n",
              "    .dataframe thead th {\n",
              "        text-align: right;\n",
              "    }\n",
              "</style>\n",
              "<table border=\"1\" class=\"dataframe\">\n",
              "  <thead>\n",
              "    <tr style=\"text-align: right;\">\n",
              "      <th></th>\n",
              "      <th>text</th>\n",
              "      <th>date</th>\n",
              "      <th>likes</th>\n",
              "      <th>business_id</th>\n",
              "      <th>user_id</th>\n",
              "    </tr>\n",
              "  </thead>\n",
              "  <tbody>\n",
              "    <tr>\n",
              "      <th>0</th>\n",
              "      <td>Great breakfast large portions and friendly wa...</td>\n",
              "      <td>2015-08-12</td>\n",
              "      <td>0</td>\n",
              "      <td>jH19V2I9fIslnNhDzPmdkA</td>\n",
              "      <td>ZcLKXikTHYOnYt5VYRO5sg</td>\n",
              "    </tr>\n",
              "    <tr>\n",
              "      <th>1</th>\n",
              "      <td>Nice place. Great staff.  A fixture in the tow...</td>\n",
              "      <td>2014-06-20</td>\n",
              "      <td>0</td>\n",
              "      <td>dAa0hB2yrnHzVmsCkN4YvQ</td>\n",
              "      <td>oaYhjqBbh18ZhU0bpyzSuw</td>\n",
              "    </tr>\n",
              "    <tr>\n",
              "      <th>2</th>\n",
              "      <td>Happy hour 5-7 Monday - Friday</td>\n",
              "      <td>2016-10-12</td>\n",
              "      <td>0</td>\n",
              "      <td>dAa0hB2yrnHzVmsCkN4YvQ</td>\n",
              "      <td>ulQ8Nyj7jCUR8M83SUMoRQ</td>\n",
              "    </tr>\n",
              "    <tr>\n",
              "      <th>3</th>\n",
              "      <td>Parking is a premium, keep circling, you will ...</td>\n",
              "      <td>2017-01-28</td>\n",
              "      <td>0</td>\n",
              "      <td>ESzO3Av0b1_TzKOiqzbQYQ</td>\n",
              "      <td>ulQ8Nyj7jCUR8M83SUMoRQ</td>\n",
              "    </tr>\n",
              "    <tr>\n",
              "      <th>4</th>\n",
              "      <td>Homemade pasta is the best in the area</td>\n",
              "      <td>2017-02-25</td>\n",
              "      <td>0</td>\n",
              "      <td>k7WRPbDd7rztjHcGGkEjlw</td>\n",
              "      <td>ulQ8Nyj7jCUR8M83SUMoRQ</td>\n",
              "    </tr>\n",
              "  </tbody>\n",
              "</table>\n",
              "</div>"
            ],
            "text/plain": [
              "                                                text  ...                 user_id\n",
              "0  Great breakfast large portions and friendly wa...  ...  ZcLKXikTHYOnYt5VYRO5sg\n",
              "1  Nice place. Great staff.  A fixture in the tow...  ...  oaYhjqBbh18ZhU0bpyzSuw\n",
              "2                     Happy hour 5-7 Monday - Friday  ...  ulQ8Nyj7jCUR8M83SUMoRQ\n",
              "3  Parking is a premium, keep circling, you will ...  ...  ulQ8Nyj7jCUR8M83SUMoRQ\n",
              "4             Homemade pasta is the best in the area  ...  ulQ8Nyj7jCUR8M83SUMoRQ\n",
              "\n",
              "[5 rows x 5 columns]"
            ]
          },
          "metadata": {},
          "execution_count": 43
        }
      ]
    },
    {
      "cell_type": "code",
      "metadata": {
        "colab": {
          "base_uri": "https://localhost:8080/",
          "height": 300
        },
        "id": "lyzLp3vMjrsT",
        "outputId": "b2254b25-b1ae-4930-972f-75613cbf7d7c"
      },
      "source": [
        "Reviews.describe()"
      ],
      "execution_count": null,
      "outputs": [
        {
          "output_type": "execute_result",
          "data": {
            "text/html": [
              "<div>\n",
              "<style scoped>\n",
              "    .dataframe tbody tr th:only-of-type {\n",
              "        vertical-align: middle;\n",
              "    }\n",
              "\n",
              "    .dataframe tbody tr th {\n",
              "        vertical-align: top;\n",
              "    }\n",
              "\n",
              "    .dataframe thead th {\n",
              "        text-align: right;\n",
              "    }\n",
              "</style>\n",
              "<table border=\"1\" class=\"dataframe\">\n",
              "  <thead>\n",
              "    <tr style=\"text-align: right;\">\n",
              "      <th></th>\n",
              "      <th>stars</th>\n",
              "      <th>useful</th>\n",
              "      <th>funny</th>\n",
              "      <th>cool</th>\n",
              "      <th>text lenght</th>\n",
              "    </tr>\n",
              "  </thead>\n",
              "  <tbody>\n",
              "    <tr>\n",
              "      <th>count</th>\n",
              "      <td>5.261668e+06</td>\n",
              "      <td>5.261668e+06</td>\n",
              "      <td>5.261668e+06</td>\n",
              "      <td>5.261668e+06</td>\n",
              "      <td>5.261668e+06</td>\n",
              "    </tr>\n",
              "    <tr>\n",
              "      <th>mean</th>\n",
              "      <td>3.727739e+00</td>\n",
              "      <td>1.385085e+00</td>\n",
              "      <td>5.091961e-01</td>\n",
              "      <td>5.860917e-01</td>\n",
              "      <td>6.118673e+02</td>\n",
              "    </tr>\n",
              "    <tr>\n",
              "      <th>std</th>\n",
              "      <td>1.433593e+00</td>\n",
              "      <td>4.528727e+00</td>\n",
              "      <td>2.686168e+00</td>\n",
              "      <td>2.233706e+00</td>\n",
              "      <td>5.721642e+02</td>\n",
              "    </tr>\n",
              "    <tr>\n",
              "      <th>min</th>\n",
              "      <td>1.000000e+00</td>\n",
              "      <td>-1.000000e+00</td>\n",
              "      <td>0.000000e+00</td>\n",
              "      <td>-1.000000e+00</td>\n",
              "      <td>1.000000e+00</td>\n",
              "    </tr>\n",
              "    <tr>\n",
              "      <th>25%</th>\n",
              "      <td>3.000000e+00</td>\n",
              "      <td>0.000000e+00</td>\n",
              "      <td>0.000000e+00</td>\n",
              "      <td>0.000000e+00</td>\n",
              "      <td>2.420000e+02</td>\n",
              "    </tr>\n",
              "    <tr>\n",
              "      <th>50%</th>\n",
              "      <td>4.000000e+00</td>\n",
              "      <td>0.000000e+00</td>\n",
              "      <td>0.000000e+00</td>\n",
              "      <td>0.000000e+00</td>\n",
              "      <td>4.340000e+02</td>\n",
              "    </tr>\n",
              "    <tr>\n",
              "      <th>75%</th>\n",
              "      <td>5.000000e+00</td>\n",
              "      <td>2.000000e+00</td>\n",
              "      <td>0.000000e+00</td>\n",
              "      <td>1.000000e+00</td>\n",
              "      <td>7.800000e+02</td>\n",
              "    </tr>\n",
              "    <tr>\n",
              "      <th>max</th>\n",
              "      <td>5.000000e+00</td>\n",
              "      <td>3.364000e+03</td>\n",
              "      <td>1.481000e+03</td>\n",
              "      <td>1.105000e+03</td>\n",
              "      <td>5.056000e+03</td>\n",
              "    </tr>\n",
              "  </tbody>\n",
              "</table>\n",
              "</div>"
            ],
            "text/plain": [
              "              stars        useful         funny          cool   text lenght\n",
              "count  5.261668e+06  5.261668e+06  5.261668e+06  5.261668e+06  5.261668e+06\n",
              "mean   3.727739e+00  1.385085e+00  5.091961e-01  5.860917e-01  6.118673e+02\n",
              "std    1.433593e+00  4.528727e+00  2.686168e+00  2.233706e+00  5.721642e+02\n",
              "min    1.000000e+00 -1.000000e+00  0.000000e+00 -1.000000e+00  1.000000e+00\n",
              "25%    3.000000e+00  0.000000e+00  0.000000e+00  0.000000e+00  2.420000e+02\n",
              "50%    4.000000e+00  0.000000e+00  0.000000e+00  0.000000e+00  4.340000e+02\n",
              "75%    5.000000e+00  2.000000e+00  0.000000e+00  1.000000e+00  7.800000e+02\n",
              "max    5.000000e+00  3.364000e+03  1.481000e+03  1.105000e+03  5.056000e+03"
            ]
          },
          "metadata": {},
          "execution_count": 44
        }
      ]
    },
    {
      "cell_type": "code",
      "metadata": {
        "colab": {
          "base_uri": "https://localhost:8080/",
          "height": 300
        },
        "id": "jlts4ppZMu3v",
        "outputId": "9a124fb9-8d00-46b7-8cda-91cf4bd0a261"
      },
      "source": [
        "Tip.describe()"
      ],
      "execution_count": null,
      "outputs": [
        {
          "output_type": "execute_result",
          "data": {
            "text/html": [
              "<div>\n",
              "<style scoped>\n",
              "    .dataframe tbody tr th:only-of-type {\n",
              "        vertical-align: middle;\n",
              "    }\n",
              "\n",
              "    .dataframe tbody tr th {\n",
              "        vertical-align: top;\n",
              "    }\n",
              "\n",
              "    .dataframe thead th {\n",
              "        text-align: right;\n",
              "    }\n",
              "</style>\n",
              "<table border=\"1\" class=\"dataframe\">\n",
              "  <thead>\n",
              "    <tr style=\"text-align: right;\">\n",
              "      <th></th>\n",
              "      <th>likes</th>\n",
              "    </tr>\n",
              "  </thead>\n",
              "  <tbody>\n",
              "    <tr>\n",
              "      <th>count</th>\n",
              "      <td>1.098324e+06</td>\n",
              "    </tr>\n",
              "    <tr>\n",
              "      <th>mean</th>\n",
              "      <td>1.662169e-02</td>\n",
              "    </tr>\n",
              "    <tr>\n",
              "      <th>std</th>\n",
              "      <td>1.463697e-01</td>\n",
              "    </tr>\n",
              "    <tr>\n",
              "      <th>min</th>\n",
              "      <td>0.000000e+00</td>\n",
              "    </tr>\n",
              "    <tr>\n",
              "      <th>25%</th>\n",
              "      <td>0.000000e+00</td>\n",
              "    </tr>\n",
              "    <tr>\n",
              "      <th>50%</th>\n",
              "      <td>0.000000e+00</td>\n",
              "    </tr>\n",
              "    <tr>\n",
              "      <th>75%</th>\n",
              "      <td>0.000000e+00</td>\n",
              "    </tr>\n",
              "    <tr>\n",
              "      <th>max</th>\n",
              "      <td>1.500000e+01</td>\n",
              "    </tr>\n",
              "  </tbody>\n",
              "</table>\n",
              "</div>"
            ],
            "text/plain": [
              "              likes\n",
              "count  1.098324e+06\n",
              "mean   1.662169e-02\n",
              "std    1.463697e-01\n",
              "min    0.000000e+00\n",
              "25%    0.000000e+00\n",
              "50%    0.000000e+00\n",
              "75%    0.000000e+00\n",
              "max    1.500000e+01"
            ]
          },
          "metadata": {},
          "execution_count": 45
        }
      ]
    },
    {
      "cell_type": "code",
      "metadata": {
        "id": "QI53zdmGjriC"
      },
      "source": [
        "Reviews['text lenght'] = Reviews['text'].apply(len)"
      ],
      "execution_count": null,
      "outputs": []
    },
    {
      "cell_type": "code",
      "metadata": {
        "id": "Qik74m8Zw7_2"
      },
      "source": [
        "Tip['text lenght'] = Tip['text'].astype(str).apply(len)"
      ],
      "execution_count": null,
      "outputs": []
    },
    {
      "cell_type": "code",
      "metadata": {
        "colab": {
          "base_uri": "https://localhost:8080/"
        },
        "id": "CkMlFR_ijrVD",
        "outputId": "5ae51e6b-ff27-415f-9547-47f979b2b8ec"
      },
      "source": [
        "Reviews['text lenght'].head()"
      ],
      "execution_count": null,
      "outputs": [
        {
          "output_type": "execute_result",
          "data": {
            "text/plain": [
              "0    213\n",
              "1    502\n",
              "2    373\n",
              "3    523\n",
              "4    231\n",
              "Name: text lenght, dtype: int64"
            ]
          },
          "metadata": {},
          "execution_count": 52
        }
      ]
    },
    {
      "cell_type": "code",
      "metadata": {
        "colab": {
          "base_uri": "https://localhost:8080/"
        },
        "id": "0nVzpGB1NcZQ",
        "outputId": "635cc6f1-ef3c-4e32-c40e-7069300a6ccd"
      },
      "source": [
        "Tip['text lenght'].head()"
      ],
      "execution_count": null,
      "outputs": [
        {
          "output_type": "execute_result",
          "data": {
            "text/plain": [
              "0    75\n",
              "1    59\n",
              "2    30\n",
              "3    74\n",
              "4    38\n",
              "Name: text lenght, dtype: int64"
            ]
          },
          "metadata": {},
          "execution_count": 54
        }
      ]
    },
    {
      "cell_type": "code",
      "metadata": {
        "colab": {
          "base_uri": "https://localhost:8080/",
          "height": 242
        },
        "id": "vV-ZAtNDjzNZ",
        "outputId": "f761f843-281c-4640-8e6b-967e87b74ebe"
      },
      "source": [
        "g = sns.FacetGrid(Reviews,col = 'stars')\n",
        "g.map(plt.hist, 'text lenght', bins = 30)"
      ],
      "execution_count": null,
      "outputs": [
        {
          "output_type": "execute_result",
          "data": {
            "text/plain": [
              "<seaborn.axisgrid.FacetGrid at 0x7fcdc8e64ad0>"
            ]
          },
          "metadata": {},
          "execution_count": 49
        },
        {
          "output_type": "display_data",
          "data": {
            "image/png": "[encoded data removed]",
            "text/plain": [
              "<Figure size 1080x216 with 5 Axes>"
            ]
          },
          "metadata": {
            "needs_background": "light"
          }
        }
      ]
    },
    {
      "cell_type": "code",
      "metadata": {
        "colab": {
          "base_uri": "https://localhost:8080/",
          "height": 184
        },
        "id": "sBIUZlQ7NhE-",
        "outputId": "728b4364-a791-4812-eabb-62d529ba60e4"
      },
      "source": [
        "g = sns.FacetGrid(Tip,col = 'likes')\n",
        "g.map(plt.hist, 'text lenght', bins = 30)"
      ],
      "execution_count": null,
      "outputs": [
        {
          "output_type": "execute_result",
          "data": {
            "text/plain": [
              "<seaborn.axisgrid.FacetGrid at 0x7fcdb910e850>"
            ]
          },
          "metadata": {},
          "execution_count": 55
        },
        {
          "output_type": "display_data",
          "data": {
            "image/png": "[encoded data removed]",
            "text/plain": [
              "<Figure size 2808x216 with 13 Axes>"
            ]
          },
          "metadata": {
            "needs_background": "light"
          }
        }
      ]
    },
    {
      "cell_type": "code",
      "metadata": {
        "colab": {
          "base_uri": "https://localhost:8080/",
          "height": 307
        },
        "id": "Xyf3SBUvjzHZ",
        "outputId": "adbea141-d55c-4404-a027-69a9c29ab403"
      },
      "source": [
        "sns.countplot(x='stars', data = Reviews, palette = 'rainbow')"
      ],
      "execution_count": null,
      "outputs": [
        {
          "output_type": "execute_result",
          "data": {
            "text/plain": [
              "<matplotlib.axes._subplots.AxesSubplot at 0x7fcdb87bbbd0>"
            ]
          },
          "metadata": {},
          "execution_count": 56
        },
        {
          "output_type": "display_data",
          "data": {
            "image/png": "[encoded data removed]",
            "text/plain": [
              "<Figure size 432x288 with 1 Axes>"
            ]
          },
          "metadata": {
            "needs_background": "light"
          }
        }
      ]
    },
    {
      "cell_type": "code",
      "metadata": {
        "colab": {
          "base_uri": "https://localhost:8080/",
          "height": 307
        },
        "id": "5JfiMCTcQt6w",
        "outputId": "80c1fad1-419d-4cbf-829e-497a7485bcaf"
      },
      "source": [
        "sns.countplot(x='likes', data = Tip, palette = 'rainbow')"
      ],
      "execution_count": null,
      "outputs": [
        {
          "output_type": "execute_result",
          "data": {
            "text/plain": [
              "<matplotlib.axes._subplots.AxesSubplot at 0x7fcdb872d150>"
            ]
          },
          "metadata": {},
          "execution_count": 57
        },
        {
          "output_type": "display_data",
          "data": {
            "image/png": "[encoded data removed]",
            "text/plain": [
              "<Figure size 432x288 with 1 Axes>"
            ]
          },
          "metadata": {
            "needs_background": "light"
          }
        }
      ]
    },
    {
      "cell_type": "code",
      "metadata": {
        "colab": {
          "base_uri": "https://localhost:8080/",
          "height": 238
        },
        "id": "OTi3kHswjy7p",
        "outputId": "6e2ea0c9-2365-48a7-b5a7-8fabcf1eaf8b"
      },
      "source": [
        "stars = Reviews.groupby('stars').mean()\n",
        "stars"
      ],
      "execution_count": null,
      "outputs": [
        {
          "output_type": "execute_result",
          "data": {
            "text/html": [
              "<div>\n",
              "<style scoped>\n",
              "    .dataframe tbody tr th:only-of-type {\n",
              "        vertical-align: middle;\n",
              "    }\n",
              "\n",
              "    .dataframe tbody tr th {\n",
              "        vertical-align: top;\n",
              "    }\n",
              "\n",
              "    .dataframe thead th {\n",
              "        text-align: right;\n",
              "    }\n",
              "</style>\n",
              "<table border=\"1\" class=\"dataframe\">\n",
              "  <thead>\n",
              "    <tr style=\"text-align: right;\">\n",
              "      <th></th>\n",
              "      <th>useful</th>\n",
              "      <th>funny</th>\n",
              "      <th>cool</th>\n",
              "      <th>text lenght</th>\n",
              "    </tr>\n",
              "    <tr>\n",
              "      <th>stars</th>\n",
              "      <th></th>\n",
              "      <th></th>\n",
              "      <th></th>\n",
              "      <th></th>\n",
              "    </tr>\n",
              "  </thead>\n",
              "  <tbody>\n",
              "    <tr>\n",
              "      <th>1</th>\n",
              "      <td>2.210875</td>\n",
              "      <td>0.707292</td>\n",
              "      <td>0.279544</td>\n",
              "      <td>764.181383</td>\n",
              "    </tr>\n",
              "    <tr>\n",
              "      <th>2</th>\n",
              "      <td>1.625610</td>\n",
              "      <td>0.668248</td>\n",
              "      <td>0.415523</td>\n",
              "      <td>769.211320</td>\n",
              "    </tr>\n",
              "    <tr>\n",
              "      <th>3</th>\n",
              "      <td>1.341018</td>\n",
              "      <td>0.614906</td>\n",
              "      <td>0.646093</td>\n",
              "      <td>716.108068</td>\n",
              "    </tr>\n",
              "    <tr>\n",
              "      <th>4</th>\n",
              "      <td>1.349785</td>\n",
              "      <td>0.567573</td>\n",
              "      <td>0.824651</td>\n",
              "      <td>631.355725</td>\n",
              "    </tr>\n",
              "    <tr>\n",
              "      <th>5</th>\n",
              "      <td>1.101492</td>\n",
              "      <td>0.353408</td>\n",
              "      <td>0.572854</td>\n",
              "      <td>492.783366</td>\n",
              "    </tr>\n",
              "  </tbody>\n",
              "</table>\n",
              "</div>"
            ],
            "text/plain": [
              "         useful     funny      cool  text lenght\n",
              "stars                                           \n",
              "1      2.210875  0.707292  0.279544   764.181383\n",
              "2      1.625610  0.668248  0.415523   769.211320\n",
              "3      1.341018  0.614906  0.646093   716.108068\n",
              "4      1.349785  0.567573  0.824651   631.355725\n",
              "5      1.101492  0.353408  0.572854   492.783366"
            ]
          },
          "metadata": {},
          "execution_count": 58
        }
      ]
    },
    {
      "cell_type": "code",
      "metadata": {
        "colab": {
          "base_uri": "https://localhost:8080/",
          "height": 489
        },
        "id": "XErDejs9Q23c",
        "outputId": "b6dc734c-71fb-4c22-bf29-6695df41512a"
      },
      "source": [
        "likes = Tip.groupby('likes').mean()\n",
        "likes"
      ],
      "execution_count": null,
      "outputs": [
        {
          "output_type": "execute_result",
          "data": {
            "text/html": [
              "<div>\n",
              "<style scoped>\n",
              "    .dataframe tbody tr th:only-of-type {\n",
              "        vertical-align: middle;\n",
              "    }\n",
              "\n",
              "    .dataframe tbody tr th {\n",
              "        vertical-align: top;\n",
              "    }\n",
              "\n",
              "    .dataframe thead th {\n",
              "        text-align: right;\n",
              "    }\n",
              "</style>\n",
              "<table border=\"1\" class=\"dataframe\">\n",
              "  <thead>\n",
              "    <tr style=\"text-align: right;\">\n",
              "      <th></th>\n",
              "      <th>text lenght</th>\n",
              "    </tr>\n",
              "    <tr>\n",
              "      <th>likes</th>\n",
              "      <th></th>\n",
              "    </tr>\n",
              "  </thead>\n",
              "  <tbody>\n",
              "    <tr>\n",
              "      <th>0</th>\n",
              "      <td>63.240222</td>\n",
              "    </tr>\n",
              "    <tr>\n",
              "      <th>1</th>\n",
              "      <td>95.194998</td>\n",
              "    </tr>\n",
              "    <tr>\n",
              "      <th>2</th>\n",
              "      <td>123.048038</td>\n",
              "    </tr>\n",
              "    <tr>\n",
              "      <th>3</th>\n",
              "      <td>135.710660</td>\n",
              "    </tr>\n",
              "    <tr>\n",
              "      <th>4</th>\n",
              "      <td>196.686275</td>\n",
              "    </tr>\n",
              "    <tr>\n",
              "      <th>5</th>\n",
              "      <td>165.882353</td>\n",
              "    </tr>\n",
              "    <tr>\n",
              "      <th>6</th>\n",
              "      <td>161.625000</td>\n",
              "    </tr>\n",
              "    <tr>\n",
              "      <th>7</th>\n",
              "      <td>345.666667</td>\n",
              "    </tr>\n",
              "    <tr>\n",
              "      <th>8</th>\n",
              "      <td>446.000000</td>\n",
              "    </tr>\n",
              "    <tr>\n",
              "      <th>9</th>\n",
              "      <td>265.000000</td>\n",
              "    </tr>\n",
              "    <tr>\n",
              "      <th>11</th>\n",
              "      <td>148.000000</td>\n",
              "    </tr>\n",
              "    <tr>\n",
              "      <th>12</th>\n",
              "      <td>127.000000</td>\n",
              "    </tr>\n",
              "    <tr>\n",
              "      <th>15</th>\n",
              "      <td>414.000000</td>\n",
              "    </tr>\n",
              "  </tbody>\n",
              "</table>\n",
              "</div>"
            ],
            "text/plain": [
              "       text lenght\n",
              "likes             \n",
              "0        63.240222\n",
              "1        95.194998\n",
              "2       123.048038\n",
              "3       135.710660\n",
              "4       196.686275\n",
              "5       165.882353\n",
              "6       161.625000\n",
              "7       345.666667\n",
              "8       446.000000\n",
              "9       265.000000\n",
              "11      148.000000\n",
              "12      127.000000\n",
              "15      414.000000"
            ]
          },
          "metadata": {},
          "execution_count": 59
        }
      ]
    },
    {
      "cell_type": "code",
      "metadata": {
        "colab": {
          "base_uri": "https://localhost:8080/",
          "height": 175
        },
        "id": "EPOVITo3j4wp",
        "outputId": "9ec6299d-eb3d-4b03-ee35-08a0af70e7c8"
      },
      "source": [
        "stars.corr()"
      ],
      "execution_count": null,
      "outputs": [
        {
          "output_type": "execute_result",
          "data": {
            "text/html": [
              "<div>\n",
              "<style scoped>\n",
              "    .dataframe tbody tr th:only-of-type {\n",
              "        vertical-align: middle;\n",
              "    }\n",
              "\n",
              "    .dataframe tbody tr th {\n",
              "        vertical-align: top;\n",
              "    }\n",
              "\n",
              "    .dataframe thead th {\n",
              "        text-align: right;\n",
              "    }\n",
              "</style>\n",
              "<table border=\"1\" class=\"dataframe\">\n",
              "  <thead>\n",
              "    <tr style=\"text-align: right;\">\n",
              "      <th></th>\n",
              "      <th>useful</th>\n",
              "      <th>funny</th>\n",
              "      <th>cool</th>\n",
              "      <th>text lenght</th>\n",
              "    </tr>\n",
              "  </thead>\n",
              "  <tbody>\n",
              "    <tr>\n",
              "      <th>useful</th>\n",
              "      <td>1.000000</td>\n",
              "      <td>0.797196</td>\n",
              "      <td>-0.767887</td>\n",
              "      <td>0.750374</td>\n",
              "    </tr>\n",
              "    <tr>\n",
              "      <th>funny</th>\n",
              "      <td>0.797196</td>\n",
              "      <td>1.000000</td>\n",
              "      <td>-0.442860</td>\n",
              "      <td>0.981430</td>\n",
              "    </tr>\n",
              "    <tr>\n",
              "      <th>cool</th>\n",
              "      <td>-0.767887</td>\n",
              "      <td>-0.442860</td>\n",
              "      <td>1.000000</td>\n",
              "      <td>-0.503737</td>\n",
              "    </tr>\n",
              "    <tr>\n",
              "      <th>text lenght</th>\n",
              "      <td>0.750374</td>\n",
              "      <td>0.981430</td>\n",
              "      <td>-0.503737</td>\n",
              "      <td>1.000000</td>\n",
              "    </tr>\n",
              "  </tbody>\n",
              "</table>\n",
              "</div>"
            ],
            "text/plain": [
              "               useful     funny      cool  text lenght\n",
              "useful       1.000000  0.797196 -0.767887     0.750374\n",
              "funny        0.797196  1.000000 -0.442860     0.981430\n",
              "cool        -0.767887 -0.442860  1.000000    -0.503737\n",
              "text lenght  0.750374  0.981430 -0.503737     1.000000"
            ]
          },
          "metadata": {},
          "execution_count": 60
        }
      ]
    },
    {
      "cell_type": "code",
      "metadata": {
        "colab": {
          "base_uri": "https://localhost:8080/",
          "height": 81
        },
        "id": "jRVkU-bzREJp",
        "outputId": "d7c13c87-5393-48c1-9f92-947627646191"
      },
      "source": [
        "likes.corr()"
      ],
      "execution_count": null,
      "outputs": [
        {
          "output_type": "execute_result",
          "data": {
            "text/html": [
              "<div>\n",
              "<style scoped>\n",
              "    .dataframe tbody tr th:only-of-type {\n",
              "        vertical-align: middle;\n",
              "    }\n",
              "\n",
              "    .dataframe tbody tr th {\n",
              "        vertical-align: top;\n",
              "    }\n",
              "\n",
              "    .dataframe thead th {\n",
              "        text-align: right;\n",
              "    }\n",
              "</style>\n",
              "<table border=\"1\" class=\"dataframe\">\n",
              "  <thead>\n",
              "    <tr style=\"text-align: right;\">\n",
              "      <th></th>\n",
              "      <th>text lenght</th>\n",
              "    </tr>\n",
              "  </thead>\n",
              "  <tbody>\n",
              "    <tr>\n",
              "      <th>text lenght</th>\n",
              "      <td>1.0</td>\n",
              "    </tr>\n",
              "  </tbody>\n",
              "</table>\n",
              "</div>"
            ],
            "text/plain": [
              "             text lenght\n",
              "text lenght          1.0"
            ]
          },
          "metadata": {},
          "execution_count": 61
        }
      ]
    },
    {
      "cell_type": "code",
      "metadata": {
        "id": "2BYFuN62j4op"
      },
      "source": [
        "#Códigos - Classificação dos dados e predição"
      ],
      "execution_count": null,
      "outputs": []
    },
    {
      "cell_type": "code",
      "metadata": {
        "colab": {
          "base_uri": "https://localhost:8080/"
        },
        "id": "S4qRKQ-ilMpv",
        "outputId": "34268427-a0ed-497d-be20-e85c91570b07"
      },
      "source": [
        "Reviews_db = Reviews[(Reviews.stars == 1) | (Reviews.stars == 5)]\n",
        "Reviews_db.stars.value_counts()"
      ],
      "execution_count": null,
      "outputs": [
        {
          "output_type": "execute_result",
          "data": {
            "text/plain": [
              "5    2253347\n",
              "1     731363\n",
              "Name: stars, dtype: int64"
            ]
          },
          "metadata": {},
          "execution_count": 62
        }
      ]
    },
    {
      "cell_type": "code",
      "metadata": {
        "colab": {
          "base_uri": "https://localhost:8080/"
        },
        "id": "WguWrcYSRXn5",
        "outputId": "2b7b04ef-fa03-410c-c62b-0acb354f802c"
      },
      "source": [
        "Tip_db = Tip\n",
        "Tip_db.likes.value_counts()"
      ],
      "execution_count": null,
      "outputs": [
        {
          "output_type": "execute_result",
          "data": {
            "text/plain": [
              "0     1082040\n",
              "1       14754\n",
              "2        1249\n",
              "3         197\n",
              "4          51\n",
              "5          17\n",
              "6           8\n",
              "7           3\n",
              "15          1\n",
              "12          1\n",
              "11          1\n",
              "9           1\n",
              "8           1\n",
              "Name: likes, dtype: int64"
            ]
          },
          "metadata": {},
          "execution_count": 67
        }
      ]
    },
    {
      "cell_type": "code",
      "metadata": {
        "id": "24Bn9IHgkI0a"
      },
      "source": [
        "X = Reviews_db['text']\n",
        "Y = Reviews_db['stars']"
      ],
      "execution_count": null,
      "outputs": []
    },
    {
      "cell_type": "code",
      "metadata": {
        "id": "7eFNUrewS1-H"
      },
      "source": [
        "X1 = Tip_db['text']\n",
        "Y1 = Tip_db['likes']"
      ],
      "execution_count": null,
      "outputs": []
    },
    {
      "cell_type": "code",
      "metadata": {
        "id": "09z6wkN9kJQq"
      },
      "source": [
        "cv = CountVectorizer()"
      ],
      "execution_count": null,
      "outputs": []
    },
    {
      "cell_type": "code",
      "metadata": {
        "id": "NfFmZLwHkN7I"
      },
      "source": [
        "X = cv.fit_transform(X)"
      ],
      "execution_count": null,
      "outputs": []
    },
    {
      "cell_type": "code",
      "metadata": {
        "id": "U78pAN5yTCRi"
      },
      "source": [
        "X1 = cv.fit_transform(X1.values.astype('U'))\n"
      ],
      "execution_count": null,
      "outputs": []
    },
    {
      "cell_type": "code",
      "metadata": {
        "id": "3CKHgHW0kPPp"
      },
      "source": [
        "from sklearn.model_selection import train_test_split \n",
        "X_train, X_test,Y_train, Y_test = train_test_split(X,Y,train_size=0.7,random_state = 101)"
      ],
      "execution_count": null,
      "outputs": []
    },
    {
      "cell_type": "code",
      "metadata": {
        "id": "G81Qd3IO2wJB"
      },
      "source": [
        "from sklearn.model_selection import train_test_split \n",
        "X1_train, X1_test,Y1_train, Y1_test = train_test_split(X1,Y1,train_size=0.7,random_state = 101)"
      ],
      "execution_count": null,
      "outputs": []
    },
    {
      "cell_type": "code",
      "metadata": {
        "id": "ooQ4_Gd0kR3K"
      },
      "source": [
        "nb = MultinomialNB()"
      ],
      "execution_count": null,
      "outputs": []
    },
    {
      "cell_type": "code",
      "metadata": {
        "id": "KZV7HRqo26JY"
      },
      "source": [
        "nb1= MultinomialNB()"
      ],
      "execution_count": null,
      "outputs": []
    },
    {
      "cell_type": "code",
      "metadata": {
        "colab": {
          "base_uri": "https://localhost:8080/"
        },
        "id": "fcg14dfemleY",
        "outputId": "c6f5cff4-4028-48ec-b417-ccd455736c76"
      },
      "source": [
        "nb.fit(X_train,Y_train)"
      ],
      "execution_count": null,
      "outputs": [
        {
          "output_type": "execute_result",
          "data": {
            "text/plain": [
              "MultinomialNB()"
            ]
          },
          "metadata": {},
          "execution_count": 84
        }
      ]
    },
    {
      "cell_type": "code",
      "metadata": {
        "colab": {
          "base_uri": "https://localhost:8080/"
        },
        "id": "lhsu7kJt23FP",
        "outputId": "af1bf54e-51a3-4e4a-be71-3434c88b19aa"
      },
      "source": [
        "nb1.fit(X1_train,Y1_train)"
      ],
      "execution_count": null,
      "outputs": [
        {
          "output_type": "execute_result",
          "data": {
            "text/plain": [
              "MultinomialNB()"
            ]
          },
          "metadata": {},
          "execution_count": 85
        }
      ]
    },
    {
      "cell_type": "code",
      "metadata": {
        "id": "9aNiRc00kT3x"
      },
      "source": [
        "pred = nb.predict(X_test)"
      ],
      "execution_count": null,
      "outputs": []
    },
    {
      "cell_type": "code",
      "metadata": {
        "id": "tfcWBqNU2_9X"
      },
      "source": [
        "pred1 = nb1.predict(X1_test)"
      ],
      "execution_count": null,
      "outputs": []
    },
    {
      "cell_type": "code",
      "metadata": {
        "colab": {
          "base_uri": "https://localhost:8080/"
        },
        "id": "P2E7LY_RkVLx",
        "outputId": "a0f4f6ce-1443-4fbf-c5f3-ef667b9614ff"
      },
      "source": [
        "\n",
        "print(\"Matriz de confusão : Reviews \")\n",
        "print(confusion_matrix(Y_test,pred))\n",
        "\n",
        "\n",
        "from sklearn import metrics\n",
        "print(metrics.classification_report(Y_test,pred))"
      ],
      "execution_count": null,
      "outputs": [
        {
          "output_type": "stream",
          "name": "stdout",
          "text": [
            "Matriz de confusão : \n",
            "[[197592  21553]\n",
            " [ 38833 637436]]\n",
            "              precision    recall  f1-score   support\n",
            "\n",
            "           1       0.84      0.90      0.87    219145\n",
            "           5       0.97      0.94      0.95    676269\n",
            "\n",
            "    accuracy                           0.93    895414\n",
            "   macro avg       0.90      0.92      0.91    895414\n",
            "weighted avg       0.94      0.93      0.93    895414\n",
            "\n"
          ]
        }
      ]
    },
    {
      "cell_type": "code",
      "metadata": {
        "colab": {
          "base_uri": "https://localhost:8080/"
        },
        "id": "-evNZVSe3MAv",
        "outputId": "5bb37e51-ba72-4157-dbce-fba429d047b0"
      },
      "source": [
        "\n",
        "print(\"Matriz de confusão : Tips \")\n",
        "print(confusion_matrix(Y1_test,pred1))\n",
        "\n",
        "\n",
        "from sklearn import metrics\n",
        "print(metrics.classification_report(Y1_test,pred1))"
      ],
      "execution_count": null,
      "outputs": [
        {
          "output_type": "stream",
          "name": "stdout",
          "text": [
            "Matriz de confusão : Tips \n",
            "[[322281   2008    209      7      0      0      0      0      0]\n",
            " [  4477     42      1      0      0      0      0      0      0]\n",
            " [   382      8      1      0      0      0      0      0      0]\n",
            " [    60      0      0      0      0      0      0      0      0]\n",
            " [    12      2      0      0      0      0      0      0      0]\n",
            " [     4      0      0      0      0      0      0      0      0]\n",
            " [     2      0      0      0      0      0      0      0      0]\n",
            " [     1      0      0      0      0      0      0      0      0]\n",
            " [     0      1      0      0      0      0      0      0      0]]\n"
          ]
        },
        {
          "output_type": "stream",
          "name": "stderr",
          "text": [
            "/usr/local/lib/python3.7/dist-packages/sklearn/metrics/_classification.py:1308: UndefinedMetricWarning: Precision and F-score are ill-defined and being set to 0.0 in labels with no predicted samples. Use `zero_division` parameter to control this behavior.\n",
            "  _warn_prf(average, modifier, msg_start, len(result))\n"
          ]
        },
        {
          "output_type": "stream",
          "name": "stdout",
          "text": [
            "              precision    recall  f1-score   support\n",
            "\n",
            "           0       0.98      0.99      0.99    324505\n",
            "           1       0.02      0.01      0.01      4520\n",
            "           2       0.00      0.00      0.00       391\n",
            "           3       0.00      0.00      0.00        60\n",
            "           4       0.00      0.00      0.00        14\n",
            "           5       0.00      0.00      0.00         4\n",
            "           6       0.00      0.00      0.00         2\n",
            "           7       0.00      0.00      0.00         1\n",
            "           8       0.00      0.00      0.00         1\n",
            "\n",
            "    accuracy                           0.98    329498\n",
            "   macro avg       0.11      0.11      0.11    329498\n",
            "weighted avg       0.97      0.98      0.97    329498\n",
            "\n"
          ]
        },
        {
          "output_type": "stream",
          "name": "stderr",
          "text": [
            "/usr/local/lib/python3.7/dist-packages/sklearn/metrics/_classification.py:1308: UndefinedMetricWarning: Precision and F-score are ill-defined and being set to 0.0 in labels with no predicted samples. Use `zero_division` parameter to control this behavior.\n",
            "  _warn_prf(average, modifier, msg_start, len(result))\n",
            "/usr/local/lib/python3.7/dist-packages/sklearn/metrics/_classification.py:1308: UndefinedMetricWarning: Precision and F-score are ill-defined and being set to 0.0 in labels with no predicted samples. Use `zero_division` parameter to control this behavior.\n",
            "  _warn_prf(average, modifier, msg_start, len(result))\n"
          ]
        }
      ]
    },
    {
      "cell_type": "code",
      "metadata": {
        "id": "Mm7S_L0Hkab5"
      },
      "source": [
        "CM = confusion_matrix(Y_test,pred)"
      ],
      "execution_count": null,
      "outputs": []
    },
    {
      "cell_type": "code",
      "metadata": {
        "id": "AbZibVQr3W0L"
      },
      "source": [
        "CM1 = confusion_matrix(Y1_test,pred1)"
      ],
      "execution_count": null,
      "outputs": []
    },
    {
      "cell_type": "code",
      "metadata": {
        "id": "33pw_NKtDoBe"
      },
      "source": [
        "#Resultados"
      ],
      "execution_count": null,
      "outputs": []
    },
    {
      "cell_type": "code",
      "metadata": {
        "colab": {
          "base_uri": "https://localhost:8080/",
          "height": 286
        },
        "id": "XdJLeXHbj78i",
        "outputId": "96c9c837-6dc0-43be-aa91-e3c83f06895e"
      },
      "source": [
        "sns.heatmap(stars.corr(), cmap = 'coolwarm', annot=True)"
      ],
      "execution_count": null,
      "outputs": [
        {
          "output_type": "execute_result",
          "data": {
            "text/plain": [
              "<matplotlib.axes._subplots.AxesSubplot at 0x7fcdaf962190>"
            ]
          },
          "metadata": {},
          "execution_count": 93
        },
        {
          "output_type": "display_data",
          "data": {
            "image/png": "[encoded data removed]",
            "text/plain": [
              "<Figure size 432x288 with 2 Axes>"
            ]
          },
          "metadata": {
            "needs_background": "light"
          }
        }
      ]
    },
    {
      "cell_type": "code",
      "metadata": {
        "colab": {
          "base_uri": "https://localhost:8080/",
          "height": 286
        },
        "id": "A360qa8_3bf2",
        "outputId": "2a5413a3-c755-42d8-cc94-ad95a6f8d518"
      },
      "source": [
        "sns.heatmap(likes.corr(), cmap = 'coolwarm', annot=True)"
      ],
      "execution_count": null,
      "outputs": [
        {
          "output_type": "execute_result",
          "data": {
            "text/plain": [
              "<matplotlib.axes._subplots.AxesSubplot at 0x7fcdb2c52b50>"
            ]
          },
          "metadata": {},
          "execution_count": 94
        },
        {
          "output_type": "display_data",
          "data": {
            "image/png": "[encoded data removed]",
            "text/plain": [
              "<Figure size 432x288 with 2 Axes>"
            ]
          },
          "metadata": {
            "needs_background": "light"
          }
        }
      ]
    },
    {
      "cell_type": "code",
      "metadata": {
        "colab": {
          "base_uri": "https://localhost:8080/",
          "height": 337
        },
        "id": "8dpaZcbTj7yy",
        "outputId": "1f1bc280-1640-4148-8c25-d711fb2efa80"
      },
      "source": [
        "group_names = ['Negativo','Falso Positivo','Falso Negativo','Positivo']\n",
        "\n",
        "group_counts = [\"{0:0.0f}\".format(value) for value in\n",
        "                CM.flatten()]\n",
        "\n",
        "group_percentages = [\"{0:.2%}\".format(value) for value in\n",
        "                     CM.flatten()/np.sum(CM)]\n",
        "\n",
        "labels = [f\"{v1}\\n{v2}\\n{v3}\" for v1, v2, v3 in\n",
        "          zip(group_names,group_counts,group_percentages)]\n",
        "\n",
        "labels = np.asarray(labels).reshape(2,2)\n",
        "\n",
        "ax = sns.heatmap(CM, annot=labels, fmt='', cmap='coolwarm')\n",
        "\n",
        "ax.set_title('Matriz de Confusão - Reviews de 1 ou 5 estrelas\\n\\n');\n",
        "ax.set_xlabel('\\nValores Previstos')\n",
        "ax.set_ylabel('Valores Atuais');\n",
        "\n",
        "## Ticket labels - List must be in alphabetical order\n",
        "ax.xaxis.set_ticklabels(['Falso','Verdadeiro'])\n",
        "ax.yaxis.set_ticklabels(['Falso','Verdadeiro'])\n",
        "\n",
        "## Display the visualization of the Confusion Matrix.\n",
        "plt.show()"
      ],
      "execution_count": null,
      "outputs": [
        {
          "output_type": "display_data",
          "data": {
            "image/png": "[encoded data removed]",
            "text/plain": [
              "<Figure size 432x288 with 2 Axes>"
            ]
          },
          "metadata": {
            "needs_background": "light"
          }
        }
      ]
    },
    {
      "cell_type": "code",
      "metadata": {
        "colab": {
          "base_uri": "https://localhost:8080/",
          "height": 337
        },
        "id": "pZM2QTav3hJn",
        "outputId": "fc641fe0-e364-46cc-c61c-62b7718d449a"
      },
      "source": [
        "group_names = ['Negativo','Falso Positivo','Falso Negativo','Positivo']\n",
        "\n",
        "group_counts = [\"{0:0.0f}\".format(value) for value in\n",
        "                CM1.flatten()]\n",
        "\n",
        "group_percentages = [\"{0:.2%}\".format(value) for value in\n",
        "                     CM1.flatten()/np.sum(CM1)]\n",
        "\n",
        "labels = [f\"{v1}\\n{v2}\\n{v3}\" for v1, v2, v3 in\n",
        "          zip(group_names,group_counts,group_percentages)]\n",
        "\n",
        "#labels = np.asarray(labels).reshape(2,2)\n",
        "\n",
        "ax = sns.heatmap(CM1, fmt='', cmap='coolwarm')\n",
        "\n",
        "ax.set_title('Matriz de Confusão - Tips \\n\\n');\n",
        "ax.set_xlabel('\\nValores Previstos')\n",
        "ax.set_ylabel('Valores Atuais');\n",
        "\n",
        "## Ticket labels - List must be in alphabetical order\n",
        "#ax.xaxis.set_ticklabels(['Falso','Verdadeiro'])\n",
        "#ax.yaxis.set_ticklabels(['Falso','Verdadeiro'])\n",
        "\n",
        "## Display the visualization of the Confusion Matrix.\n",
        "plt.show()"
      ],
      "execution_count": null,
      "outputs": [
        {
          "output_type": "display_data",
          "data": {
            "image/png": "[encoded data removed]",
            "text/plain": [
              "<Figure size 432x288 with 2 Axes>"
            ]
          },
          "metadata": {
            "needs_background": "light"
          }
        }
      ]
    },
    {
      "cell_type": "markdown",
      "metadata": {
        "id": "S0mfdDnPDoBh"
      },
      "source": [
        "# Resultados e discussões"
      ]
    },
    {
      "cell_type": "markdown",
      "metadata": {
        "id": "5hOvCAyGDoBi"
      },
      "source": [
        "O processod e análise e predição levou em conta duas partes do conjunto de dados da *Yelp* , um que diz respeito a reviews, que leva o mesmo nome do *DataFrame* atribuido no modelo e a outra leva o nome de *Tips* . Quanto a predição , a análise da base de *Reviews* teve uma acurácia de 93%,. Enquanto a Tips, apesar do *CountVectorizer* ser aplicado , bem como o *MultinominialNB* , por não conter valores expressivos de likes que não fossem classificados como 0, teve uma acurácia de 98%, contudo, seu resultado não foi heterogêneo, gerando uma matriz de confusão que tende ao valor com a massiva maioria das entradas."
      ]
    },
    {
      "cell_type": "markdown",
      "metadata": {
        "id": "jieXvAswDoBj"
      },
      "source": [
        ""
      ]
    },
    {
      "cell_type": "markdown",
      "metadata": {
        "id": "JSe-l9NQDoBk"
      },
      "source": [
        "# Conclusão"
      ]
    },
    {
      "cell_type": "markdown",
      "metadata": {
        "id": "BRrn1-eUDoBk"
      },
      "source": [
        "Após as análises e predições , verificou-se que o modelo apresenta resultados bem definidos, e possui a capacidade de fazer análise e predições de texto de maneira eficaz. A primeira base apresentou um resultado bem definido e a análise conclui que de fato, a quantidade de caracteres de uma review interfere na avaliação da mesma. Já a segunda base, devido a homogeniedade de valores, a análise não pode ser satisfatória, apesar da capacidade e do funcionamento dos algoritmos. Após isso, podemos concluir que os algoritmos utilizados para processamento de linguagem natural são uma otima maneira de fazer análise e predição envolvendo texto como bases avaliativas, além da contagem de tokens, as possibilidades de utilizar esses modelos para avaliação de texto são muito promissoras, como aplicação para conceitos de análise de sentimentos."
      ]
    },
    {
      "cell_type": "markdown",
      "metadata": {
        "id": "oQaYR64ADoBl"
      },
      "source": [
        ""
      ]
    },
    {
      "cell_type": "markdown",
      "metadata": {
        "id": "LFLn-sfGDoBm"
      },
      "source": [
        "# Referências"
      ]
    },
    {
      "cell_type": "markdown",
      "metadata": {
        "id": "SFC-DlkkDoBm"
      },
      "source": [
        "*Incluir aqui as referências bibliográficas. Utilizar links para os materiais e utilizar as normas para referências da ABNT.*\n",
        "\n",
        "[*CONE, M. Markdown Cheat Sheet: A quick reference to the Markdown syntax. Markdownguide.org, 2020.*](https://www.markdownguide.org/cheat-sheet/#downloads)  \n",
        "[*FREELA, D. Markdown – Um guia para iniciantes. Produtive.me, 2019.*](https://produtive.me/guia/markdown-um-guia-para-iniciantes/)\n",
        "\n",
        "[*Machine Learning in Python, Sci-Kit Learn – 2021.*](https://scikit-learn.org/stable/) \n",
        "\n",
        "[*Your Home for Data Sciente, Kaggle – 2021.*](https://www.kaggle.com/) \n",
        "\n",
        "[*Yelp Dataset, Kaggle – 2021.*](https://www.kaggle.com/yelp-dataset/yelp-dataset)     \n",
        "\n",
        "[*Yelp , Yelp – 2021.*](https://www.yelp.com.br/)     \n",
        "\n",
        "\n",
        "\n",
        "\n"
      ]
    },
    {
      "cell_type": "markdown",
      "metadata": {
        "id": "_O2BuJAfDoBn"
      },
      "source": [
        " "
      ]
    }
  ]
}